{
 "cells": [
  {
   "cell_type": "markdown",
   "metadata": {},
   "source": [
    "### Load Questions from Question Lists (File)"
   ]
  },
  {
   "cell_type": "code",
   "execution_count": 1,
   "metadata": {},
   "outputs": [
    {
     "name": "stdout",
     "output_type": "stream",
     "text": [
      "Requirement already satisfied: ipywidgets in ./.venv/lib/python3.12/site-packages (8.1.5)\n",
      "Requirement already satisfied: comm>=0.1.3 in ./.venv/lib/python3.12/site-packages (from ipywidgets) (0.2.2)\n",
      "Requirement already satisfied: ipython>=6.1.0 in ./.venv/lib/python3.12/site-packages (from ipywidgets) (8.29.0)\n",
      "Requirement already satisfied: traitlets>=4.3.1 in ./.venv/lib/python3.12/site-packages (from ipywidgets) (5.14.3)\n",
      "Requirement already satisfied: widgetsnbextension~=4.0.12 in ./.venv/lib/python3.12/site-packages (from ipywidgets) (4.0.13)\n",
      "Requirement already satisfied: jupyterlab-widgets~=3.0.12 in ./.venv/lib/python3.12/site-packages (from ipywidgets) (3.0.13)\n",
      "Requirement already satisfied: decorator in ./.venv/lib/python3.12/site-packages (from ipython>=6.1.0->ipywidgets) (5.1.1)\n",
      "Requirement already satisfied: jedi>=0.16 in ./.venv/lib/python3.12/site-packages (from ipython>=6.1.0->ipywidgets) (0.19.2)\n",
      "Requirement already satisfied: matplotlib-inline in ./.venv/lib/python3.12/site-packages (from ipython>=6.1.0->ipywidgets) (0.1.7)\n",
      "Requirement already satisfied: prompt-toolkit<3.1.0,>=3.0.41 in ./.venv/lib/python3.12/site-packages (from ipython>=6.1.0->ipywidgets) (3.0.48)\n",
      "Requirement already satisfied: pygments>=2.4.0 in ./.venv/lib/python3.12/site-packages (from ipython>=6.1.0->ipywidgets) (2.18.0)\n",
      "Requirement already satisfied: stack-data in ./.venv/lib/python3.12/site-packages (from ipython>=6.1.0->ipywidgets) (0.6.3)\n",
      "Requirement already satisfied: pexpect>4.3 in ./.venv/lib/python3.12/site-packages (from ipython>=6.1.0->ipywidgets) (4.9.0)\n",
      "Requirement already satisfied: parso<0.9.0,>=0.8.4 in ./.venv/lib/python3.12/site-packages (from jedi>=0.16->ipython>=6.1.0->ipywidgets) (0.8.4)\n",
      "Requirement already satisfied: ptyprocess>=0.5 in ./.venv/lib/python3.12/site-packages (from pexpect>4.3->ipython>=6.1.0->ipywidgets) (0.7.0)\n",
      "Requirement already satisfied: wcwidth in ./.venv/lib/python3.12/site-packages (from prompt-toolkit<3.1.0,>=3.0.41->ipython>=6.1.0->ipywidgets) (0.2.13)\n",
      "Requirement already satisfied: executing>=1.2.0 in ./.venv/lib/python3.12/site-packages (from stack-data->ipython>=6.1.0->ipywidgets) (2.1.0)\n",
      "Requirement already satisfied: asttokens>=2.1.0 in ./.venv/lib/python3.12/site-packages (from stack-data->ipython>=6.1.0->ipywidgets) (2.4.1)\n",
      "Requirement already satisfied: pure-eval in ./.venv/lib/python3.12/site-packages (from stack-data->ipython>=6.1.0->ipywidgets) (0.2.3)\n",
      "Requirement already satisfied: six>=1.12.0 in ./.venv/lib/python3.12/site-packages (from asttokens>=2.1.0->stack-data->ipython>=6.1.0->ipywidgets) (1.16.0)\n",
      "\n",
      "\u001b[1m[\u001b[0m\u001b[34;49mnotice\u001b[0m\u001b[1;39;49m]\u001b[0m\u001b[39;49m A new release of pip is available: \u001b[0m\u001b[31;49m24.0\u001b[0m\u001b[39;49m -> \u001b[0m\u001b[32;49m25.0\u001b[0m\n",
      "\u001b[1m[\u001b[0m\u001b[34;49mnotice\u001b[0m\u001b[1;39;49m]\u001b[0m\u001b[39;49m To update, run: \u001b[0m\u001b[32;49mpip install --upgrade pip\u001b[0m\n",
      "Note: you may need to restart the kernel to use updated packages.\n"
     ]
    }
   ],
   "source": [
    "%load_ext autoreload\n",
    "%autoreload 2\n",
    "%pip install ipywidgets"
   ]
  },
  {
   "cell_type": "code",
   "execution_count": 16,
   "metadata": {},
   "outputs": [],
   "source": [
    "\n",
    "qa_file = 'output/bedrock-ug_sample_questions.jsonl'\n",
    "document_name = 'bedrock-ug'\n",
    "chunk_size = 1000\n",
    "use_contextual = True\n",
    "\n",
    "index_name = f\"{'contextual_' if use_contextual else ''}{document_name}_{chunk_size}\"\n"
   ]
  },
  {
   "cell_type": "code",
   "execution_count": null,
   "metadata": {},
   "outputs": [],
   "source": []
  },
  {
   "cell_type": "code",
   "execution_count": 3,
   "metadata": {},
   "outputs": [],
   "source": [
    "from config import Config\n",
    "config = Config.load()\n",
    "config.__dict__\n",
    "\n",
    "from libs.bedrock_service import BedrockService\n",
    "from libs.contextual_rag_service import ContextualRAGService\n",
    "from libs.opensearch_service import OpensearchService\n",
    "from libs.reranker import RerankerService\n",
    "\n",
    "import json"
   ]
  },
  {
   "cell_type": "code",
   "execution_count": 14,
   "metadata": {},
   "outputs": [],
   "source": [
    "evaluate_system_prompt = \"\"\"\n",
    "Evaluate the correctness of the generation on a continuous scale from 0 to 1. A generation can be considered correct (Score: 1) if it includes all the key facts from the ground truth and if every fact presented in the generation is factually supported by the ground truth or common sense.\n",
    "Example:\n",
    "Query: Can eating carrots improve your vision?\n",
    "Answer: Yes, eating carrots significantly improves your vision, especially at night. This is why people who eat lots of carrots never need glasses. Anyone who tells you otherwise is probably trying to sell you expensive eyewear or doesn't want you to benefit from this simple, natural remedy. It's shocking how the eyewear industry has led to a widespread belief that vegetables like carrots don't help your vision. People are so gullible to fall for these money-making schemes.\n",
    "Ground truth: Well, yes and no. Carrots won’t improve your visual acuity if you have less than perfect vision. A diet of carrots won’t give a blind person 20/20 vision. But, the vitamins found in the vegetable can help promote overall eye health. Carrots contain beta-carotene, a substance that the body converts to vitamin A, an important nutrient for eye health. An extreme lack of vitamin A can cause blindness. Vitamin A can prevent the formation of cataracts and macular degeneration, the world’s leading cause of blindness. However, if your vision problems aren’t related to vitamin A, your vision won’t change no matter how many carrots you eat.\n",
    "Score: 0.1\n",
    "Reasoning: While the generation mentions that carrots can improve vision, it fails to outline the reason for this phenomenon and the circumstances under which this is the case. The rest of the response contains misinformation and exaggerations regarding the benefits of eating carrots for vision improvement. It deviates significantly from the more accurate and nuanced explanation provided in the ground truth.\n",
    "\"\"\"\n",
    "\n",
    "eval_tools = {\n",
    "    \"tools\": [\n",
    "        {\n",
    "            \"toolSpec\": {\n",
    "                \"name\": \"CorrectressGrader\",\n",
    "                \"description\": \"Evaluate the correctness of the answer on a continuous scale from 0 to 1, and reasoning why the score is. A generation can be considered correct (Score: 1) if it includes all the key facts from the ground truth and if every fact presented in the generation is factually supported by the ground truth.\",\n",
    "                \"inputSchema\": {\n",
    "                    \"json\": {\n",
    "                        \"type\": \"object\",\n",
    "                        \"properties\": {\n",
    "                            \"score\": {\n",
    "                                \"type\": \"number\",\n",
    "                                \"description\": \"The correctress score [0.0, 1.0]\"\n",
    "                            },\n",
    "                            \"reason\": {\n",
    "                                \"type\": \"string\",\n",
    "                                \"description\": \"The reason about the score\"\n",
    "                            }\n",
    "                        },\n",
    "                        \"required\": [\"score\", \"reason\"]\n",
    "                    }\n",
    "                }\n",
    "            }\n",
    "        }\n",
    "    ]\n",
    "}\n"
   ]
  },
  {
   "cell_type": "code",
   "execution_count": 25,
   "metadata": {},
   "outputs": [
    {
     "name": "stdout",
     "output_type": "stream",
     "text": [
      "us-west-2\n"
     ]
    },
    {
     "data": {
      "application/vnd.jupyter.widget-view+json": {
       "model_id": "af45cb17ac504374a1c4350607968ae8",
       "version_major": 2,
       "version_minor": 0
      },
      "text/plain": [
       "  0%|          | 0/5 [00:00<?, ?it/s]"
      ]
     },
     "metadata": {},
     "output_type": "display_data"
    }
   ],
   "source": [
    "from tqdm.notebook import tqdm\n",
    "\n",
    "bedrock_service = BedrockService(config.aws.region, config.aws.profile, config.bedrock.retries, config.bedrock.embed_model_id, config.bedrock.model_id, config.model.max_tokens, config.model.temperature, config.model.top_p)\n",
    "opensearch_service = OpensearchService(config.aws.region, config.aws.profile, config.opensearch.prefix, config.opensearch.domain_name, config.opensearch.document_name, config.opensearch.user, config.opensearch.password)\n",
    "reranker_service = RerankerService(config.reranker.aws_region, config.reranker.aws_profile, config.reranker.reranker_model_id, config.bedrock.retries)\n",
    "rag_service = ContextualRAGService(bedrock_service=bedrock_service, opensearch_service=opensearch_service, reranker_service=reranker_service)\n",
    "\n",
    "results = []\n",
    "\n",
    "with open(qa_file, 'r') as f:\n",
    "    lines = f.readlines()\n",
    "    for line in tqdm(lines[5:10]):\n",
    "        question_data = json.loads(line)\n",
    "        question = question_data['question']\n",
    "        ground_truth = question_data['ground_truth']\n",
    "        question_embedding = bedrock_service.embedding(text=question)\n",
    "        generated = rag_service.do(question=question, document_name=document_name, chunk_size=chunk_size, use_hybrid=True, use_contextual=True, search_limit=5)\n",
    "        \n",
    "        token_usage = generated['usage']\n",
    "\n",
    "        # print(generated)\n",
    "\n",
    "        # Evaluate each answer\n",
    "        \n",
    "\n",
    "        evaluate_user_template = f\"\"\"\n",
    "        Query: {question}\n",
    "        Answer: {generated['answer']}\n",
    "        Ground Truth: {ground_truth}\n",
    "        \"\"\"\n",
    "\n",
    "        sys_prompt = [{\"text\": evaluate_system_prompt}]\n",
    "        user_prompt = [{\"role\": \"user\", \"content\": [{\"text\": evaluate_user_template}]}]\n",
    "        temperature = 0.0\n",
    "        top_p = 0.5\n",
    "        inference_config = {\"temperature\": temperature, \"topP\": top_p}\n",
    "\n",
    "        response = bedrock_service.converse_with_tools(\n",
    "            messages=user_prompt,\n",
    "            system_prompt=evaluate_system_prompt,\n",
    "            tools=eval_tools,\n",
    "            temperature=temperature,\n",
    "            top_p=top_p,\n",
    "            max_tokens=4096\n",
    "        )\n",
    "\n",
    "        stop_reason = response['stopReason']\n",
    "        # print(response)\n",
    "\n",
    "        if stop_reason == 'tool_use':\n",
    "            tool_requests = response['output']['message']['content']\n",
    "            \n",
    "\n",
    "            for tool_request in [x for x in tool_requests if 'toolUse' in x]:\n",
    "                if tool_request['toolUse']['name'] == 'CorrectressGrader':\n",
    "                    res = tool_request['toolUse']['input']\n",
    "\n",
    "                    result = {\n",
    "                         \"question\": question,\n",
    "                         \"question_type\": question_data['question_type'],\n",
    "                         \"generated_answer\": generated['answer'],\n",
    "                         \"ground_truth\": ground_truth,\n",
    "                         \"score\": res['score']\n",
    "                    }\n",
    "\n",
    "                    results.append(result)\n"
   ]
  },
  {
   "cell_type": "code",
   "execution_count": 26,
   "metadata": {},
   "outputs": [
    {
     "data": {
      "text/plain": [
       "[{'question': 'How does the implementation of invoking the Anthropic Claude model differ between the .NET, Go, and Java SDKs for AWS Bedrock, particularly in terms of request formatting and error handling?',\n",
       "  'question_type': 'complex',\n",
       "  'generated_answer': 'Based on the provided information, here are the key differences in implementing invocation of the Anthropic Claude model between the .NET, Go, and Java SDKs for AWS Bedrock:\\n\\n1. Request Formatting:\\n\\n- .NET: The example doesn\\'t show the full request formatting, but it mentions creating a BedrockRuntime client and setting the model ID.\\n\\n- Go: \\n  - Uses a custom `ClaudeRequest` struct to format the request\\n  - Explicitly wraps the prompt with \"Human: \" and \"\\\\n\\\\nAssistant:\" tags\\n  - Marshals the struct to JSON before sending\\n\\n- Java: The example is not provided in the given chunks.\\n\\n2. API Invocation:\\n\\n- .NET: Uses `AmazonBedrockRuntimeClient` with `InvokeModel` method\\n\\n- Go: Uses `bedrockruntime.NewFromConfig(sdkConfig)` to create a client, then calls `client.InvokeModel()`\\n\\n- Java: Not shown in the provided chunks\\n\\n3. Error Handling:\\n\\n- .NET: Catches `AmazonBedrockRuntimeException` and prints an error message\\n\\n- Go: \\n  - Uses a custom `ProcessError` function (not shown in detail)\\n  - Checks for specific error strings like \"no such host\" for region availability\\n\\n- Java: Not shown in the provided chunks\\n\\n4. Response Parsing:\\n\\n- .NET: Parses the response using `JsonNode.ParseAsync` and extracts the text from a specific path in the JSON\\n\\n- Go: \\n  - Defines a `ClaudeResponse` struct\\n  - Unmarshals the response JSON into this struct\\n  - Extracts the completion from the struct\\n\\n- Java: Not shown in the provided chunks\\n\\n5. SDK-specific Features:\\n\\n- .NET: Uses `RegionEndpoint.USEast1` for specifying the region\\n\\n- Go: \\n  - Uses the `config` package to load AWS configuration\\n  - Allows specifying the region via command-line flag\\n\\n- Java: Not enough information provided to comment on SDK-specific features\\n\\nWhile the core concept of invoking the model is similar across SDKs, the implementation details, particularly in request formatting and response parsing, differ based on the language and SDK design. The Go implementation appears to be the most detailed in the provided information, with explicit structures for requests and responses.',\n",
       "  'ground_truth': 'The implementation of invoking the Anthropic Claude model differs between the .NET, Go, and Java SDKs for AWS Bedrock in several ways:\\n\\n1. Request formatting:\\n   - .NET: Uses a generic InvokeModelAsync method with a request object.\\n   - Go: Defines a custom ClaudeRequest struct with specific fields like Prompt, MaxTokensToSample, Temperature, and StopSequences.\\n   - Java: Uses a JSONObject to construct the request body.\\n\\n2. Prompt enclosure:\\n   - .NET: Not explicitly shown in the provided code.\\n   - Go: Explicitly encloses the prompt with \"Human: \" and \"\\\\n\\\\nAssistant:\" tags.\\n   - Java: Not explicitly shown in the provided code.\\n\\n3. Response handling:\\n   - .NET: Parses the response using JsonNode.ParseAsync and extracts the text from the \"content\" field.\\n   - Go: Unmarshals the response into a custom ClaudeResponse struct and returns the Completion field.\\n   - Java: Response handling is not shown in the provided code snippet.\\n\\n4. Error handling:\\n   - .NET: Catches AmazonBedrockRuntimeException and prints an error message with the model ID.\\n   - Go: Uses a separate ProcessError function (not shown in the snippet) to handle errors.\\n   - Java: Error handling is not explicitly shown in the provided code snippet.\\n\\n5. SDK-specific features:\\n   - .NET: Uses async/await pattern for asynchronous operations.\\n   - Go: Provides more granular control over request parameters like Temperature and StopSequences.\\n   - Java: Uses the BedrockRuntimeClient builder pattern for client creation.\\n\\nThese differences reflect the idiomatic approaches and features of each programming language and their respective AWS SDKs.',\n",
       "  'score': 0.7},\n",
       " {'question': 'What does the amazon-bedrock-guardrailAction field indicate?',\n",
       "  'question_type': 'simple',\n",
       "  'generated_answer': 'The `amazon-bedrock-guardrailAction` field indicates whether the guardrail intervened in the model\\'s output or not. Specifically:\\n\\n- It can have two possible values:\\n  1. \"INTERVENED\" - This means the guardrail took some action to modify or block the model\\'s output based on the configured policies.\\n  2. \"NONE\" - This means the guardrail did not intervene and the model\\'s output was returned as-is.\\n\\n- This field allows developers to quickly determine if the guardrail had any impact on the model\\'s response without having to dig into the detailed trace information.\\n\\n- It\\'s part of the response when using Amazon Bedrock\\'s model invocation APIs with a guardrail enabled.\\n\\n- The field helps developers understand at a high level whether their configured guardrail policies were triggered for a particular request/response interaction with the model.\\n\\nSo in essence, it\\'s a top-level indicator of whether the guardrail actively modified the interaction with the model in some way based on the defined policies and rules.',\n",
       "  'ground_truth': 'The amazon-bedrock-guardrailAction field specifies whether the guardrail INTERVENED or not (NONE).',\n",
       "  'score': 0.8},\n",
       " {'question': 'How does the KMS policy enable secure log encryption in AWS, and what additional measure is recommended to enhance data protection for Amazon Bedrock services?',\n",
       "  'question_type': 'complex',\n",
       "  'generated_answer': 'Based on the provided information, here\\'s how the KMS policy enables secure log encryption in AWS and what additional measure is recommended for Amazon Bedrock services:\\n\\n1. KMS policy for secure log encryption:\\nThe KMS policy includes a specific statement that allows the AWS Logs service to use the customer-managed key (CMK) for encrypting logs. This is evident in the policy statement with the Sid \"Allow use of CMK to encrypt logs in their account\". The policy grants the following permissions to the Logs service:\\n\\n- kms:Encrypt\\n- kms:Decrypt\\n- kms:ReEncryptFrom\\n- kms:ReEncryptTo\\n- kms:GenerateDataKey\\n- kms:GenerateDataKeyPair\\n- kms:GenerateDataKeyPairWithoutPlaintext\\n- kms:GenerateDataKeyWithoutPlaintext\\n- kms:DescribeKey\\n\\nThese permissions allow the Logs service to perform necessary encryption operations on the log data using the customer-managed key.\\n\\n2. Additional recommended measure for Amazon Bedrock services:\\nTo enhance data protection for Amazon Bedrock services, it is recommended to use customer-managed keys (CMKs) instead of relying solely on AWS-owned keys. While Amazon Bedrock automatically enables encryption at rest using AWS-owned keys at no charge, using customer-managed keys provides several benefits:\\n\\n- Greater control: You can manage and audit the use of your encryption keys.\\n- Enhanced security: You have the ability to rotate, disable, or revoke access to the keys as needed.\\n- Compliance: Using CMKs can help meet stricter regulatory requirements.\\n\\nTo implement this measure:\\n\\na) Create a customer-managed key in AWS KMS.\\nb) Attach an appropriate key policy to the CMK, granting necessary permissions to Amazon Bedrock and other relevant principals.\\nc) Specify the custom KMS key when creating model customization jobs or other resources in Amazon Bedrock that support encryption with a KMS key.\\n\\nBy using customer-managed keys, you gain more control over your data encryption and can better monitor and manage access to your encrypted resources in Amazon Bedrock.',\n",
       "  'ground_truth': 'The KMS policy enables secure log encryption in AWS by allowing the logs service to use the CMK (Customer Master Key) for various encryption operations. Specifically, it grants the logs service permissions for actions like kms:Encrypt, kms:Decrypt, kms:GenerateDataKey, and others, but only for log groups within the specified AWS account and region. This is achieved through the \"Allow use of CMK to encrypt logs in their account\" policy statement, which includes a condition to restrict the encryption context to the account\\'s log groups.\\n\\nTo further enhance data protection for Amazon Bedrock services, it is recommended to use a Virtual Private Cloud (VPC) with Amazon VPC. This allows for better control over data access and enables monitoring of all network traffic using VPC Flow Logs. Additionally, configuring the VPC with AWS PrivateLink to create a VPC interface endpoint establishes a private connection to the data, ensuring it\\'s not exposed to the internet. This approach can be applied to various Amazon Bedrock features, including model customization jobs, batch inference jobs, and accessing Amazon OpenSearch Serverless for Knowledge Bases.',\n",
       "  'score': 0.6},\n",
       " {'question': \"What happens when the Bedrock Converse API returns a 'tool_use' stop reason?\",\n",
       "  'question_type': 'simple',\n",
       "  'generated_answer': 'When the Bedrock Converse API returns a \\'tool_use\\' stop reason, it indicates that the AI model has determined it needs to use a tool to generate an appropriate response. Here\\'s what typically happens:\\n\\n1. The model\\'s response includes a \\'toolUse\\' field in the message content, specifying:\\n   - toolUseId: A unique identifier for this tool use request\\n   - name: The name of the tool to be used\\n   - input: Parameters required for the tool\\n\\n2. The client application (your code) needs to handle this tool use request by:\\n   - Identifying the requested tool based on the \\'name\\' field\\n   - Executing the tool with the provided input parameters\\n   - Capturing the result of the tool execution\\n\\n3. After obtaining the tool\\'s result, the client should send this information back to the Bedrock Converse API as a new message in the conversation. This message typically has:\\n   - role: \"user\"\\n   - content: An array containing a single object with:\\n     - type: \"tool_result\"\\n     - tool_use_id: The same toolUseId received in the original request\\n     - content: The actual result from the tool execution\\n\\n4. The conversation then continues, with the model using the tool result to generate its next response or potentially requesting another tool use.\\n\\n5. This process may repeat multiple times until the model has enough information to provide a final response, at which point it will typically return with a \\'stop_reason\\' of \"end_turn\".\\n\\n6. To prevent infinite loops, it\\'s important to implement a maximum recursion limit when handling tool use requests.\\n\\nBy following this process, the AI model can leverage external tools and data sources to enhance its ability to respond to complex queries or perform specific tasks.',\n",
       "  'ground_truth': \"When the Bedrock Converse API returns a 'tool_use' stop reason, the code calls the requested tool, sends the result back to the model, and continues the conversation.\",\n",
       "  'score': 0.7},\n",
       " {'question': \"How can you create a complex filter in Amazon Bedrock's vector search configuration that combines multiple conditions, and what are the limitations on filter complexity?\",\n",
       "  'question_type': 'complex',\n",
       "  'generated_answer': 'Based on the provided information, here\\'s how you can create complex filters in Amazon Bedrock\\'s vector search configuration and what the limitations are:\\n\\n1. Creating complex filters:\\n\\n   a. You can use logical operators to combine multiple filter conditions:\\n      - \"andAll\": All conditions must be met\\n      - \"orAll\": At least one condition must be met\\n\\n   b. You can create nested filter structures with up to one level of embedding.\\n\\n   c. JSON structure for complex filters:\\n\\n   ```json\\n   \"retrievalConfiguration\": {\\n     \"vectorSearchConfiguration\": {\\n       \"filter\": {\\n         \"andAll | orAll\": [\\n           {\\n             \"andAll | orAll\": [\\n               {\\n                 \"<filter-type>\": {\\n                   \"key\": \"string\",\\n                   \"value\": \"string\" | number | boolean | [\"string\", \"string\", ...]\\n                 }\\n               },\\n               // More filter conditions...\\n             ]\\n           },\\n           // More filter groups...\\n         ]\\n       }\\n     }\\n   }\\n   ```\\n\\n2. Limitations on filter complexity:\\n\\n   a. You can combine up to 5 filter groups within a single logical operator.\\n   \\n   b. You can create only one level of embedding (nesting) for filter groups.\\n   \\n   c. Each filter group can contain up to 5 individual filter conditions.\\n\\n3. Console interface:\\n\\n   - You can add up to 5 filters in a group.\\n   - You can add up to 5 filter groups.\\n   - You can change the logical operator between filters (AND/OR) within a group.\\n   - You can change the logical operator between filter groups (AND/OR).\\n\\n4. Supported filter types:\\n\\n   The documentation mentions the \"Equals\" operator, but there are likely other operators available (e.g., \"Not Equals\", \"Greater Than\", etc.) for different data types (string, number, boolean).\\n\\n5. Vector index considerations:\\n\\n   - If using the nmslib engine, you may need to create a new knowledge base, use a faiss engine, or add metadata columns to an existing Aurora database to support filtering.\\n\\nBy combining these elements, you can create complex filters to refine your vector search queries in Amazon Bedrock, allowing for more precise and relevant results from your knowledge base.',\n",
       "  'ground_truth': \"In Amazon Bedrock's vector search configuration, you can create complex filters by using logical operators to combine multiple filtering conditions. The most complex filter structure allows you to combine up to 5 filter groups by embedding them within another logical operator, with one level of embedding. \\n\\nThe process involves:\\n1. Using 'andAll' or 'orAll' as the top-level logical operator.\\n2. Within this, you can have up to 5 filter groups.\\n3. Each filter group can be another 'andAll' or 'orAll' operator containing up to 5 individual filter conditions.\\n4. Individual filter conditions use operators like 'equals', 'notEquals', 'greaterThan', etc.\\n\\nLimitations include:\\n- Maximum of 5 filter groups in the top-level logical operator.\\n- Maximum of 5 filter conditions within each group.\\n- Only one level of embedding is allowed.\\n- Logical operators are limited to 'andAll' and 'orAll'.\\n\\nThis structure allows for complex queries while maintaining a manageable level of complexity in the filter configuration.\",\n",
       "  'score': 0.8}]"
      ]
     },
     "execution_count": 26,
     "metadata": {},
     "output_type": "execute_result"
    }
   ],
   "source": [
    "results"
   ]
  }
 ],
 "metadata": {
  "kernelspec": {
   "display_name": ".venv",
   "language": "python",
   "name": "python3"
  },
  "language_info": {
   "codemirror_mode": {
    "name": "ipython",
    "version": 3
   },
   "file_extension": ".py",
   "mimetype": "text/x-python",
   "name": "python",
   "nbconvert_exporter": "python",
   "pygments_lexer": "ipython3",
   "version": "3.12.3"
  }
 },
 "nbformat": 4,
 "nbformat_minor": 2
}
